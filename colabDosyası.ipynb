COLAB LİNK:	https://colab.research.google.com/drive/1tGdKwyMa9kR7gAjATYmM6dl66aYsAlBB?usp=sharing


# Gerekli kütüphaneleri import edelim
import tensorflow as tf
from tensorflow.keras.datasets import cifar10
import matplotlib.pyplot as plt
from sklearn.neighbors import KNeighborsClassifier
from sklearn.ensemble import RandomForestClassifier
from sklearn.tree import DecisionTreeClassifier
from sklearn.linear_model import LogisticRegression
from sklearn.metrics import accuracy_score, f1_score, recall_score, precision_score
import pandas as pd

# Adım 1: Veri Seti Yüklenmesi ve Görselleştirme
# CIFAR-10 veri setini yükleme
(X_train, y_train), (X_test, y_test) = cifar10.load_data()

# Veri seti boyutlarını ve birkaç örneği görselleştirme
print("Eğitim veri seti boyutu:", X_train.shape)
print("Test veri seti boyutu:", X_test.shape)

plt.figure(figsize=(10, 10))
for i in range(10):
    plt.subplot(2, 5, i + 1)
    plt.xticks([])
    plt.yticks([])
    plt.grid(False)
    plt.imshow(X_train[i])
    plt.xlabel(y_train[i][0])
plt.show()

# 2. Veri Ön İşleme: Normalize Etme
X_train_flat = X_train.reshape(X_train.shape[0], -1).astype('float32') / 255.0
X_test_flat = X_test.reshape(X_test.shape[0], -1).astype('float32') / 255.0

# Veri boyutlarını kontrol etme
print("Düzleştirilmiş Eğitim veri seti boyutu:", X_train_flat.shape)
print("Düzleştirilmiş Test veri seti boyutu:", X_test_flat.shape)

# 3. Model Oluşturma ve Eğitme
models = {
    "KNN": KNeighborsClassifier(n_neighbors=3),
    "Random Forest": RandomForestClassifier(n_estimators=100, random_state=42),
    "Decision Tree": DecisionTreeClassifier(max_depth=10, random_state=42),
    "Logistic Regression": LogisticRegression(max_iter=1000, random_state=42)
}

results = {}
for name, model in models.items():
    print(f"{name} modeli eğitiliyor...")
    model.fit(X_train_flat, y_train.ravel())  # Veri üzerinde eğitim yapma
    
    # Test verisi ile tahminde bulunma
    y_pred = model.predict(X_test_flat)
    
    # Değerlendirme metriklerini hesaplama
    accuracy = accuracy_score(y_test, y_pred)
    f1 = f1_score(y_test, y_pred, average='weighted')
    recall = recall_score(y_test, y_pred, average='weighted')
    precision = precision_score(y_test, y_pred, average='weighted')
    
    # Sonuçları kaydetme
    results[name] = {"Accuracy": accuracy, "F1 Score": f1, "Recall": recall, "Precision": precision}

    # Değerlendirme sonuçlarını yazdırma
    print(f"{name} Modeli Başarımları:")
    print(f"Accuracy: {accuracy:.4f}")
    print(f"F1 Score: {f1:.4f}")
    print(f"Recall: {recall:.4f}")
    print(f"Precision: {precision:.4f}")
    print("---------------------")

# Sonuçları tablo şeklinde gösterme
results_df = pd.DataFrame(results)
results_df
